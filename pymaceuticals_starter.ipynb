{
 "cells": [
  {
   "cell_type": "markdown",
   "metadata": {},
   "source": [
    "## Observations and Insights"
   ]
  },
  {
   "cell_type": "markdown",
   "metadata": {},
   "source": [
    "250 mice identified with squamous cell carcinoma (SCC) tumor growth were treated through a variety of drug regimens. Over the course of 45 days, tumor development was observed and measured. \n",
    "\n",
    "-Of the drug regimens used, Capomulin and Ramicane were the treatments seen in mice with the lowest average tumor volume whereas Ketapril and Naftisol regimens had the highest average of tumor volume.\n",
    "\n",
    "-The distribution of data of the four treatment regmines of Capomulin, Ramicane, Infubinol, and Ceftamin show that Ramicane had the lowest tumor volume data distribution compared to Capomulin, whereas Infubinol had the highest tumor volume data distribution. It should be noted that there was an outlier in the Infubinol treatment where tumor volume was low for one subject.\n",
    "\n",
    "-The correlation coefficient between both mouse weight and tumor volume is 0.84 indicating that the strength of this correlation is strong. This would mean that mouse weight has an influence on tumor volume.\n",
    "\n",
    "-Treatment Regimens Capomulin and Ramicane had more opportunities to be used compared to Propovia, this may mean that Capomulin and Ramicane subjects lived longer than Propovia subjects.\n",
    "\n",
    "Overall, Ramicane is the treatment regimen comparable to Capomulin in reducing the tumor volume of squamous cell carcinoma (SCC) in mice."
   ]
  },
  {
   "cell_type": "markdown",
   "metadata": {},
   "source": [
    "## Dependencies and starter code"
   ]
  },
  {
   "cell_type": "code",
   "execution_count": 2,
   "metadata": {
    "scrolled": true
   },
   "outputs": [],
   "source": [
    "#Dependencies and Setup\n",
    "import pandas as pd\n",
    "\n",
    "import matplotlib.pyplot as plt\n",
    "import numpy as np\n",
    "import scipy.stats as sts\n",
    "import scipy.stats as st\n",
    "from scipy.stats import sem\n",
    "from scipy.stats import linregress\n",
    "\n",
    "#Study data files\n",
    "mouse_metadata = 'data/Mouse_metadata.csv'\n",
    "study_results = 'data/Study_results.csv'\n",
    "\n",
    "#Read the mouse data and the study results\n",
    "mouse_metadata_df = pd.read_csv(mouse_metadata)\n",
    "study_results_df = pd.read_csv(study_results)\n",
    "\n",
    "#Combine the data into a single dataset\n",
    "combined_results_df = pd.merge(mouse_metadata_df, study_results_df,\n",
    "                              how='outer', on='Mouse ID')\n"
   ]
  },
  {
   "cell_type": "markdown",
   "metadata": {},
   "source": [
    "## Summary statistics"
   ]
  },
  {
   "cell_type": "code",
   "execution_count": 3,
   "metadata": {},
   "outputs": [
    {
     "data": {
      "text/html": [
       "<div>\n",
       "<style scoped>\n",
       "    .dataframe tbody tr th:only-of-type {\n",
       "        vertical-align: middle;\n",
       "    }\n",
       "\n",
       "    .dataframe tbody tr th {\n",
       "        vertical-align: top;\n",
       "    }\n",
       "\n",
       "    .dataframe thead th {\n",
       "        text-align: right;\n",
       "    }\n",
       "</style>\n",
       "<table border=\"1\" class=\"dataframe\">\n",
       "  <thead>\n",
       "    <tr style=\"text-align: right;\">\n",
       "      <th></th>\n",
       "      <th>Mean</th>\n",
       "      <th>Median</th>\n",
       "      <th>Mode</th>\n",
       "      <th>Variance</th>\n",
       "      <th>Standard Deviance</th>\n",
       "      <th>Standard of Error</th>\n",
       "    </tr>\n",
       "    <tr>\n",
       "      <th>Drug Regimen</th>\n",
       "      <th></th>\n",
       "      <th></th>\n",
       "      <th></th>\n",
       "      <th></th>\n",
       "      <th></th>\n",
       "      <th></th>\n",
       "    </tr>\n",
       "  </thead>\n",
       "  <tbody>\n",
       "    <tr>\n",
       "      <td>Capomulin</td>\n",
       "      <td>40.675741</td>\n",
       "      <td>41.557809</td>\n",
       "      <td>([45.0], [25])</td>\n",
       "      <td>24.839296</td>\n",
       "      <td>4.983904</td>\n",
       "      <td>0.329346</td>\n",
       "    </tr>\n",
       "    <tr>\n",
       "      <td>Ceftamin</td>\n",
       "      <td>52.591172</td>\n",
       "      <td>51.776157</td>\n",
       "      <td>([45.0], [25])</td>\n",
       "      <td>39.069446</td>\n",
       "      <td>6.250556</td>\n",
       "      <td>0.469821</td>\n",
       "    </tr>\n",
       "    <tr>\n",
       "      <td>Infubinol</td>\n",
       "      <td>52.884795</td>\n",
       "      <td>51.820584</td>\n",
       "      <td>([45.0], [25])</td>\n",
       "      <td>42.886388</td>\n",
       "      <td>6.548770</td>\n",
       "      <td>0.492236</td>\n",
       "    </tr>\n",
       "    <tr>\n",
       "      <td>Ketapril</td>\n",
       "      <td>55.235638</td>\n",
       "      <td>53.698743</td>\n",
       "      <td>([45.0], [25])</td>\n",
       "      <td>68.188930</td>\n",
       "      <td>8.257659</td>\n",
       "      <td>0.603860</td>\n",
       "    </tr>\n",
       "    <tr>\n",
       "      <td>Naftisol</td>\n",
       "      <td>54.331565</td>\n",
       "      <td>52.509285</td>\n",
       "      <td>([45.0], [25])</td>\n",
       "      <td>65.817708</td>\n",
       "      <td>8.112811</td>\n",
       "      <td>0.596466</td>\n",
       "    </tr>\n",
       "    <tr>\n",
       "      <td>Placebo</td>\n",
       "      <td>54.033581</td>\n",
       "      <td>52.288934</td>\n",
       "      <td>([45.0], [25])</td>\n",
       "      <td>60.830138</td>\n",
       "      <td>7.799368</td>\n",
       "      <td>0.581331</td>\n",
       "    </tr>\n",
       "    <tr>\n",
       "      <td>Propriva</td>\n",
       "      <td>52.322552</td>\n",
       "      <td>50.854632</td>\n",
       "      <td>([45.0], [26])</td>\n",
       "      <td>42.088020</td>\n",
       "      <td>6.487528</td>\n",
       "      <td>0.512884</td>\n",
       "    </tr>\n",
       "    <tr>\n",
       "      <td>Ramicane</td>\n",
       "      <td>40.216745</td>\n",
       "      <td>40.673236</td>\n",
       "      <td>([45.0], [25])</td>\n",
       "      <td>23.383692</td>\n",
       "      <td>4.835669</td>\n",
       "      <td>0.320955</td>\n",
       "    </tr>\n",
       "    <tr>\n",
       "      <td>Stelasyn</td>\n",
       "      <td>54.233149</td>\n",
       "      <td>52.431737</td>\n",
       "      <td>([45.0], [24])</td>\n",
       "      <td>59.122106</td>\n",
       "      <td>7.689090</td>\n",
       "      <td>0.573111</td>\n",
       "    </tr>\n",
       "    <tr>\n",
       "      <td>Zoniferol</td>\n",
       "      <td>53.236507</td>\n",
       "      <td>51.818479</td>\n",
       "      <td>([45.0], [25])</td>\n",
       "      <td>48.266689</td>\n",
       "      <td>6.947423</td>\n",
       "      <td>0.516398</td>\n",
       "    </tr>\n",
       "  </tbody>\n",
       "</table>\n",
       "</div>"
      ],
      "text/plain": [
       "                   Mean     Median            Mode   Variance  \\\n",
       "Drug Regimen                                                    \n",
       "Capomulin     40.675741  41.557809  ([45.0], [25])  24.839296   \n",
       "Ceftamin      52.591172  51.776157  ([45.0], [25])  39.069446   \n",
       "Infubinol     52.884795  51.820584  ([45.0], [25])  42.886388   \n",
       "Ketapril      55.235638  53.698743  ([45.0], [25])  68.188930   \n",
       "Naftisol      54.331565  52.509285  ([45.0], [25])  65.817708   \n",
       "Placebo       54.033581  52.288934  ([45.0], [25])  60.830138   \n",
       "Propriva      52.322552  50.854632  ([45.0], [26])  42.088020   \n",
       "Ramicane      40.216745  40.673236  ([45.0], [25])  23.383692   \n",
       "Stelasyn      54.233149  52.431737  ([45.0], [24])  59.122106   \n",
       "Zoniferol     53.236507  51.818479  ([45.0], [25])  48.266689   \n",
       "\n",
       "              Standard Deviance  Standard of Error  \n",
       "Drug Regimen                                        \n",
       "Capomulin              4.983904           0.329346  \n",
       "Ceftamin               6.250556           0.469821  \n",
       "Infubinol              6.548770           0.492236  \n",
       "Ketapril               8.257659           0.603860  \n",
       "Naftisol               8.112811           0.596466  \n",
       "Placebo                7.799368           0.581331  \n",
       "Propriva               6.487528           0.512884  \n",
       "Ramicane               4.835669           0.320955  \n",
       "Stelasyn               7.689090           0.573111  \n",
       "Zoniferol              6.947423           0.516398  "
      ]
     },
     "execution_count": 3,
     "metadata": {},
     "output_type": "execute_result"
    }
   ],
   "source": [
    "#Summary Statistics Table for Tumor Volume and Treatment Regimen\n",
    "\n",
    "#Using .apply method for np and sts\n",
    "#https://stackoverflow.com/questions/29500650/python-how-to-find-average-of-columns-using-dataframes-apply-method\n",
    "\n",
    "#Mean\n",
    "ave_drug_group = combined_results_df.groupby('Drug Regimen')\n",
    "ave_drug_group= ave_drug_group['Tumor Volume (mm3)'].apply(np.mean)\n",
    "ave_drug_df = pd.DataFrame(ave_drug_group)\n",
    "\n",
    "#Median\n",
    "med_drug_group = combined_results_df.groupby('Drug Regimen')\n",
    "med_drug_group = med_drug_group['Tumor Volume (mm3)'].apply(np.median)\n",
    "\n",
    "#Mode\n",
    "mode_drug_group = combined_results_df.groupby('Drug Regimen')\n",
    "mode_drug_group = mode_drug_group['Tumor Volume (mm3)'].apply(sts.mode)\n",
    "\n",
    "#Variance\n",
    "var_drug_group = combined_results_df.groupby('Drug Regimen')\n",
    "var_drug_group = var_drug_group['Tumor Volume (mm3)'].apply(np.var)\n",
    "\n",
    "#Standard Deviation\n",
    "std_drug_group = combined_results_df.groupby('Drug Regimen')\n",
    "std_drug_group = std_drug_group['Tumor Volume (mm3)'].apply(np.std)\n",
    "\n",
    "#SEM\n",
    "sem_drug_group = combined_results_df.groupby('Drug Regimen')\n",
    "sem_drug_group = sem_drug_group['Tumor Volume (mm3)'].apply(sts.sem)\n",
    "\n",
    "#Creating and formatting Summary Table for Summary Statistics\n",
    "combined_summary_df = ave_drug_df.rename(columns = {'Tumor Volume (mm3)': 'Mean'})\n",
    "combined_summary_df = combined_summary_df.assign(Median = med_drug_group)\n",
    "combined_summary_df = combined_summary_df.assign(Mode = mode_drug_group)\n",
    "combined_summary_df = combined_summary_df.assign(Variance = var_drug_group)\n",
    "combined_summary_df = combined_summary_df.assign(Standard_deviance = std_drug_group).rename(columns = {'Standard_deviance': 'Standard Deviance'})\n",
    "combined_summary_df = combined_summary_df.assign(sem = sem_drug_group).rename(columns = {'sem': 'Standard of Error'})\n",
    "\n",
    "combined_summary_df"
   ]
  },
  {
   "cell_type": "markdown",
   "metadata": {},
   "source": [
    "## Bar plots"
   ]
  },
  {
   "cell_type": "code",
   "execution_count": 4,
   "metadata": {},
   "outputs": [
    {
     "data": {
      "text/plain": [
       "<matplotlib.axes._subplots.AxesSubplot at 0x1a2415afd0>"
      ]
     },
     "execution_count": 4,
     "metadata": {},
     "output_type": "execute_result"
    },
    {
     "data": {
      "image/png": "[encoded data removed]",
      "text/plain": [
       "<Figure size 720x360 with 1 Axes>"
      ]
     },
     "metadata": {
      "needs_background": "light"
     },
     "output_type": "display_data"
    }
   ],
   "source": [
    "#Create DataFrame for Drug Regimen and Drug Count Bar Chart with pandas\n",
    "\n",
    "#Bar Plot Treatment Regimen Distribution with Pandas\n",
    "#Creating Drug Regimen DataFrame\n",
    "drug_group = combined_results_df.groupby('Drug Regimen')\n",
    "drug_group = drug_group['Drug Regimen'].count()\n",
    "drug_df = pd.DataFrame(drug_group)\n",
    "rename_drug_df = drug_df.rename(columns={'Drug Regimen': 'Drug Count'})\n",
    "\n",
    "#Creating and formatting Pie plot\n",
    "drug_barplot = rename_drug_df.plot(kind='bar', figsize=(10,5))\n",
    "\n",
    "drug_barplot"
   ]
  },
  {
   "cell_type": "code",
   "execution_count": 5,
   "metadata": {},
   "outputs": [
    {
     "data": {
      "text/plain": [
       "<function matplotlib.pyplot.show(*args, **kw)>"
      ]
     },
     "execution_count": 5,
     "metadata": {},
     "output_type": "execute_result"
    },
    {
     "data": {
      "image/png": "[encoded data removed]",
      "text/plain": [
       "<Figure size 720x360 with 1 Axes>"
      ]
     },
     "metadata": {
      "needs_background": "light"
     },
     "output_type": "display_data"
    }
   ],
   "source": [
    "#Bar Plot Treatment Regimen Distribution with Pyplot\n",
    "\n",
    "#Set x-axis\n",
    "x_axis = combined_results_df.groupby('Drug Regimen').count()\n",
    "x_axis = x_axis.index\n",
    "\n",
    "#Set y-axis\n",
    "y_axis = combined_results_df.groupby('Drug Regimen')\n",
    "y_axis = y_axis['Drug Regimen'].count()\n",
    "\n",
    "#Creating and formatting bar chart\n",
    "plt.figure(figsize=(10,5))\n",
    "plt.bar(x_axis, y_axis, color='b', align=\"center\")\n",
    "\n",
    "#Creating chart title and labels\n",
    "plt.title(\"Count of Treatment\")\n",
    "plt.xlabel(\"Drug Regimen\")\n",
    "plt.ylabel(\"Drug Count\")\n",
    "\n",
    "plt.show\n"
   ]
  },
  {
   "cell_type": "markdown",
   "metadata": {},
   "source": [
    "## Pie plots"
   ]
  },
  {
   "cell_type": "code",
   "execution_count": 6,
   "metadata": {},
   "outputs": [
    {
     "data": {
      "image/png": "[encoded data removed]",
      "text/plain": [
       "<Figure size 360x360 with 1 Axes>"
      ]
     },
     "metadata": {},
     "output_type": "display_data"
    }
   ],
   "source": [
    "#Generate a pie plot showing the distribution of female versus male mice using pandas\n",
    "\n",
    "#Pie Plot Gender Distribution with Pandas\n",
    "#Source: https://datatofish.com/plot-dataframe-pandas/\n",
    "\n",
    "#Creating Gender DataFrame\n",
    "gender_group = combined_results_df.groupby('Sex')\n",
    "gender_count = gender_group['Sex'].count()\n",
    "gender_df = pd.DataFrame(gender_count)\n",
    "rename_gender_df = gender_df.rename(columns={'Sex': 'Mouse Gender Distribution'})\n",
    "\n",
    "#Creating and formatting Pie plot\n",
    "explode = (0.05, 0)\n",
    "gender_pieplot = rename_gender_df.plot.pie(subplots=True, explode=explode, figsize=(5,5), autopct='%1.1f%%', shadow=True)\n",
    "plt.axis(\"equal\")\n",
    "\n",
    "plt.show()"
   ]
  },
  {
   "cell_type": "code",
   "execution_count": 7,
   "metadata": {},
   "outputs": [
    {
     "data": {
      "image/png": "[encoded data removed]",
      "text/plain": [
       "<Figure size 432x288 with 1 Axes>"
      ]
     },
     "metadata": {},
     "output_type": "display_data"
    }
   ],
   "source": [
    "#Generate a pie plot showing the distribution of female versus male mice using pyplot\n",
    "\n",
    "#Creating filters for Male and Female\n",
    "piecht_gender_df = combined_results_df['Sex']\n",
    "\n",
    "#Setting labels variable\n",
    "male_pie = piecht_gender_df.iloc[0]\n",
    "female_pie = piecht_gender_df.iloc[11]\n",
    "\n",
    "#Setting count variable\n",
    "gender_count_pie = piecht_gender_df.value_counts()\n",
    "\n",
    "#Creating and formatting Pie plot\n",
    "gender_pie = [female_pie, male_pie]\n",
    "count_pie = [gender_count_pie[1], gender_count_pie[0]]\n",
    "colors_pie = ['#2E86C1', '#FF8F00']\n",
    "explode = (0.05, 0)\n",
    "plt.title(\"Mouse Gender Distribution\")\n",
    "plt.pie(count_pie, labels=gender_pie, explode=explode, colors=colors_pie, autopct='%1.1f%%', shadow=True)\n",
    "plt.axis(\"equal\")\n",
    "\n",
    "plt.show()"
   ]
  },
  {
   "cell_type": "markdown",
   "metadata": {},
   "source": [
    "## Quartiles, outliers and boxplots"
   ]
  },
  {
   "cell_type": "code",
   "execution_count": 8,
   "metadata": {},
   "outputs": [],
   "source": [
    "# Calculate the final tumor volume of each mouse across \n",
    "#four of the most promising treatment regimens: Capomulin, Ramicane, Infubinol, and Ceftamin\n",
    "#Calculate the quartiles and IQR and quantitatively determine if there\n",
    "#are any potential outliers. \n",
    "\n",
    "\n",
    "#Create dataframe to get each unique mouse, max timepoint and max tumor volume\n",
    "boxplt_df = combined_results_df.groupby(['Mouse ID']).max()\n",
    "boxplt_df = boxplt_df.reset_index()\n",
    "tumor_boxplt_df = boxplt_df[['Mouse ID', 'Timepoint']].merge(combined_results_df, on = ['Mouse ID', 'Timepoint'])\n",
    "\n",
    "#Filtering data for tumor volume for each treatment regimen (Capomulin, Ramicane, Infubinol, and Ceftamin)\n",
    "capomulin_tumor = tumor_boxplt_df.loc[tumor_boxplt_df['Drug Regimen'] == 'Capomulin']['Tumor Volume (mm3)']\n",
    "ramicane_tumor = tumor_boxplt_df.loc[tumor_boxplt_df['Drug Regimen'] == 'Ramicane']['Tumor Volume (mm3)']\n",
    "infubinol_tumor = tumor_boxplt_df.loc[tumor_boxplt_df['Drug Regimen'] == 'Infubinol']['Tumor Volume (mm3)']\n",
    "ceftamin_tumor = tumor_boxplt_df.loc[tumor_boxplt_df['Drug Regimen'] == 'Ceftamin']['Tumor Volume (mm3)']"
   ]
  },
  {
   "cell_type": "code",
   "execution_count": 31,
   "metadata": {},
   "outputs": [
    {
     "name": "stdout",
     "output_type": "stream",
     "text": [
      "The lower quartile of tumor volume for Capomulin treatment is: 32.0\n",
      "The upper quartile of tumor volume for Capomulin treatment is: 40.0\n",
      "The interquartile range of of tumor volume for Capomulin treatment is: 8.0\n",
      "The the median of tumor volume for Capomulin treatment is: 38.0 \n",
      "Tumor volume values below 21.0 could be outliers.\n",
      "Tumor volume values above 52.0 could be outliers.\n"
     ]
    }
   ],
   "source": [
    "#Calculate the quartiles and IQR for Capomulin regimen\n",
    "cap_quartiles = capomulin_tumor.quantile([.25,.5,.75])\n",
    "cap_lowerq = cap_quartiles[0.25]\n",
    "cap_upperq = cap_quartiles[0.75]\n",
    "cap_iqr = cap_upperq - cap_lowerq\n",
    "\n",
    "print(f\"The lower quartile of tumor volume for Capomulin treatment is: {round(cap_lowerq)}\")\n",
    "print(f\"The upper quartile of tumor volume for Capomulin treatment is: {round(cap_upperq)}\")\n",
    "print(f\"The interquartile range of of tumor volume for Capomulin treatment is: {round(cap_iqr)}\")\n",
    "print(f\"The the median of tumor volume for Capomulin treatment is: {round(cap_quartiles[0.5])} \")\n",
    "\n",
    "#Determining the possible outliers\n",
    "cap_lower_bound = cap_lowerq - (1.5 * cap_iqr)\n",
    "cap_upper_bound = cap_upperq + (1.5 * cap_iqr)\n",
    "print(f\"Tumor volume values below {round(cap_lower_bound)} could be outliers.\")\n",
    "print(f\"Tumor volume values above {round(cap_upper_bound)} could be outliers.\")\n"
   ]
  },
  {
   "cell_type": "code",
   "execution_count": 32,
   "metadata": {},
   "outputs": [
    {
     "name": "stdout",
     "output_type": "stream",
     "text": [
      "The lower quartile of tumor volume for Ramicane treatment is: 32.0\n",
      "The upper quartile of tumor volume for Ramicane treatment is: 41.0\n",
      "The interquartile range of of tumor volume for Ramicane treatment is: 9.0\n",
      "The the median of tumor volume for Ramicane treatment is: 37.0 \n",
      "Tumor volume values below 18.0 could be outliers.\n",
      "Tumor volume values above 54.0 could be outliers.\n"
     ]
    }
   ],
   "source": [
    "#Calculate the quartiles and IQR for Ramicane regimen\n",
    "ram_quartiles = ramicane_tumor.quantile([.25,.5,.75])\n",
    "ram_lowerq = ram_quartiles[0.25]\n",
    "ram_upperq = ram_quartiles[0.75]\n",
    "ram_iqr = ram_upperq - ram_lowerq\n",
    "\n",
    "print(f\"The lower quartile of tumor volume for Ramicane treatment is: {round(ram_lowerq)}\")\n",
    "print(f\"The upper quartile of tumor volume for Ramicane treatment is: {round(ram_upperq)}\")\n",
    "print(f\"The interquartile range of of tumor volume for Ramicane treatment is: {round(ram_iqr)}\")\n",
    "print(f\"The the median of tumor volume for Ramicane treatment is: {round(ram_quartiles[0.5])} \")\n",
    "\n",
    "#Determining the possible outliers\n",
    "ram_lower_bound = ram_lowerq - (1.5 * ram_iqr)\n",
    "ram_upper_bound = ram_upperq + (1.5 * ram_iqr)\n",
    "print(f\"Tumor volume values below {round(ram_lower_bound)} could be outliers.\")\n",
    "print(f\"Tumor volume values above {round(ram_upper_bound)} could be outliers.\")\n"
   ]
  },
  {
   "cell_type": "code",
   "execution_count": 33,
   "metadata": {},
   "outputs": [
    {
     "name": "stdout",
     "output_type": "stream",
     "text": [
      "The lower quartile of tumor volume for Infubinol treatment is: 54.0\n",
      "The upper quartile of tumor volume for Infubinol treatment is: 66.0\n",
      "The interquartile range of of tumor volume for Infubinol treatment is: 11.0\n",
      "The the median of tumor volume for Infubinol treatment is: 60.0 \n",
      "Tumor volume values below 37.0 could be outliers.\n",
      "Tumor volume values above 83.0 could be outliers.\n"
     ]
    }
   ],
   "source": [
    "#Calculate the quartiles and IQR for Infubinol regimen\n",
    "inf_quartiles = infubinol_tumor.quantile([.25,.5,.75])\n",
    "inf_lowerq = inf_quartiles[0.25]\n",
    "inf_upperq = inf_quartiles[0.75]\n",
    "inf_iqr = inf_upperq - inf_lowerq\n",
    "\n",
    "print(f\"The lower quartile of tumor volume for Infubinol treatment is: {round(inf_lowerq)}\")\n",
    "print(f\"The upper quartile of tumor volume for Infubinol treatment is: {round(inf_upperq)}\")\n",
    "print(f\"The interquartile range of of tumor volume for Infubinol treatment is: {round(inf_iqr)}\")\n",
    "print(f\"The the median of tumor volume for Infubinol treatment is: {round(inf_quartiles[0.5])} \")\n",
    "\n",
    "#Determining the possible outliers\n",
    "inf_lower_bound = inf_lowerq - (1.5 * inf_iqr)\n",
    "inf_upper_bound = inf_upperq + (1.5 * inf_iqr)\n",
    "print(f\"Tumor volume values below {round(inf_lower_bound)} could be outliers.\")\n",
    "print(f\"Tumor volume values above {round(inf_upper_bound)} could be outliers.\")\n"
   ]
  },
  {
   "cell_type": "code",
   "execution_count": 34,
   "metadata": {},
   "outputs": [
    {
     "name": "stdout",
     "output_type": "stream",
     "text": [
      "The lower quartile of tumor volume for Ceftamin treatment is: 49.0\n",
      "The upper quartile of tumor volume for Ceftamin treatment is: 64.0\n",
      "The interquartile range of of tumor volume for Ceftamin treatment is: 16.0\n",
      "The the median of tumor volume for Ceftamin treatment is: 60.0 \n",
      "Tumor volume values below 25.0 could be outliers.\n",
      "Tumor volume values above 88.0 could be outliers.\n"
     ]
    }
   ],
   "source": [
    "#Calculate the quartiles and IQR for Ceftamin regimen\n",
    "cef_quartiles = ceftamin_tumor.quantile([.25,.5,.75])\n",
    "cef_lowerq = cef_quartiles[0.25]\n",
    "cef_upperq = cef_quartiles[0.75]\n",
    "cef_iqr = cef_upperq - cef_lowerq\n",
    "\n",
    "print(f\"The lower quartile of tumor volume for Ceftamin treatment is: {round(cef_lowerq)}\")\n",
    "print(f\"The upper quartile of tumor volume for Ceftamin treatment is: {round(cef_upperq)}\")\n",
    "print(f\"The interquartile range of of tumor volume for Ceftamin treatment is: {round(cef_iqr)}\")\n",
    "print(f\"The the median of tumor volume for Ceftamin treatment is: {round(cef_quartiles[0.5])} \")\n",
    "\n",
    "#Determining the possible outliers\n",
    "cef_lower_bound = cef_lowerq - (1.5 * cef_iqr)\n",
    "cef_upper_bound = cef_upperq + (1.5 * cef_iqr)\n",
    "print(f\"Tumor volume values below {round(cef_lower_bound)} could be outliers.\")\n",
    "print(f\"Tumor volume values above {round(cef_upper_bound)} could be outliers.\")\n"
   ]
  },
  {
   "cell_type": "code",
   "execution_count": 35,
   "metadata": {},
   "outputs": [
    {
     "data": {
      "image/png": "[encoded data removed]",
      "text/plain": [
       "<Figure size 432x288 with 1 Axes>"
      ]
     },
     "metadata": {
      "needs_background": "light"
     },
     "output_type": "display_data"
    }
   ],
   "source": [
    "#Creating and formatting box and whisker plot of data on tumor volume for each treatment \n",
    "#regimen (Capomulin, Ramicane, Infubinol, and Ceftamin)\n",
    "\n",
    "outlier_markers = dict(marker = 'o' , markerfacecolor='r', \n",
    "                       markersize=12, markeredgecolor='r')\n",
    "plt.boxplot([capomulin_tumor, ramicane_tumor, infubinol_tumor, ceftamin_tumor], \n",
    "            labels=['Capomulin', 'Ramicane', 'Infubinol', 'Ceftamin'], \n",
    "            flierprops=outlier_markers)\n",
    "plt.ylabel('Final Tumor Volume (mm3)')\n",
    "\n",
    "plt.show()"
   ]
  },
  {
   "cell_type": "markdown",
   "metadata": {},
   "source": [
    "## Line and scatter plots"
   ]
  },
  {
   "cell_type": "code",
   "execution_count": 36,
   "metadata": {
    "scrolled": false
   },
   "outputs": [
    {
     "data": {
      "text/plain": [
       "[<matplotlib.lines.Line2D at 0x1a25876c50>]"
      ]
     },
     "execution_count": 36,
     "metadata": {},
     "output_type": "execute_result"
    },
    {
     "data": {
      "image/png": "[encoded data removed]",
      "text/plain": [
       "<Figure size 432x288 with 1 Axes>"
      ]
     },
     "metadata": {
      "needs_background": "light"
     },
     "output_type": "display_data"
    }
   ],
   "source": [
    "# Generate a line plot of time point versus tumor volume for a mouse treated with Capomulin\n",
    "\n",
    "#Creating a dataframe  that filters for Capomulin, time point, and tumor volume for s185 Mouse ID\n",
    "lineplt_drug_df = combined_results_df[['Drug Regimen', 'Mouse ID', 'Timepoint', 'Tumor Volume (mm3)']]\n",
    "lineplt_drug_df2 = lineplt_drug_df.loc[combined_results_df['Drug Regimen'] =='Capomulin',:]\n",
    "lineplt_drug_df2 = lineplt_drug_df2.loc[combined_results_df['Mouse ID']=='s185',:]\n",
    "\n",
    "#Plotting with pyplot\n",
    "#Setting variables for x-axis and y-axis\n",
    "x_axis= lineplt_drug_df2['Timepoint']\n",
    "y_axis= lineplt_drug_df2['Tumor Volume (mm3)']\n",
    "\n",
    "#Formatting title and axis labels\n",
    "plt.title(\"Capomulin Treatment Regimen Duration and Tumor Volume for Mouse ID s185\")\n",
    "plt.xlabel(\"Timepoint duration of treatment\")\n",
    "plt.ylabel(\"Size of tumor(mm3)\")\n",
    "\n",
    "#Graphing and showing Lineplot\n",
    "plt.plot(x_axis, y_axis)\n"
   ]
  },
  {
   "cell_type": "code",
   "execution_count": 37,
   "metadata": {},
   "outputs": [
    {
     "data": {
      "image/png": "[encoded data removed]",
      "text/plain": [
       "<Figure size 432x288 with 1 Axes>"
      ]
     },
     "metadata": {
      "needs_background": "light"
     },
     "output_type": "display_data"
    }
   ],
   "source": [
    "#Filtering for Capomulin, weight, and average tumor volume\n",
    "scatplt_drug_df = combined_results_df[['Drug Regimen', 'Weight (g)', 'Tumor Volume (mm3)']]\n",
    "scatplt_drug_df = combined_results_df.loc[combined_results_df['Drug Regimen'] == \"Capomulin\"]\n",
    "scatplt_avetumor_df = scatplt_drug_df.groupby(['Mouse ID']).mean()\n",
    "\n",
    "#Plotting with pyplot\n",
    "#Setting variables for x-axis and y-axis\n",
    "x_axis = scatplt_avetumor_df['Weight (g)']\n",
    "y_axis = scatplt_avetumor_df['Tumor Volume (mm3)']\n",
    "\n",
    "#Formatting title and axis labels\n",
    "plt.title(\"Mouse weight and Tumor Volume with Capomulin Treatment Regimen\")\n",
    "plt.xlabel(\"Mouse Weight (g)\")\n",
    "plt.ylabel(\"Size of tumor(mm3)\")\n",
    "    \n",
    "#Graphing and showing Lineplot\n",
    "plt.scatter(x_axis, y_axis, marker=\"o\", edgecolors=\"black\", alpha=0.75)\n",
    "\n",
    "\n",
    "plt.show()"
   ]
  },
  {
   "cell_type": "code",
   "execution_count": 25,
   "metadata": {},
   "outputs": [
    {
     "name": "stdout",
     "output_type": "stream",
     "text": [
      "The correlation coefficient between both mouse weight and tumor volume is 0.84\n",
      "The strength of this correlation is strong.\n"
     ]
    },
    {
     "data": {
      "image/png": "[encoded data removed]",
      "text/plain": [
       "<Figure size 432x288 with 1 Axes>"
      ]
     },
     "metadata": {
      "needs_background": "light"
     },
     "output_type": "display_data"
    }
   ],
   "source": [
    "# Calculate the correlation coefficient and linear regression \n",
    "#model for mouse weight and average tumor volume for the \n",
    "#Capomulin regimen\n",
    "#Plot the linear regression model on top of the previous scatter plot\n",
    "\n",
    "#Filtering for Capomulin, weight, and average tumor volume\n",
    "scatplt_drug_df = combined_results_df[['Drug Regimen', 'Weight (g)','Tumor Volume (mm3)']]\n",
    "scatplt_drug_df = combined_results_df.loc[combined_results_df['Drug Regimen'] == \"Capomulin\"]\n",
    "scatplt_avetumor_df = scatplt_drug_df.groupby(['Mouse ID']).mean()\n",
    "\n",
    "#Calculating compute the Pearson correlation coefficient between Mouse weight and tumor volume\n",
    "m_weight = scatplt_avetumor_df['Weight (g)']\n",
    "t_volume = scatplt_avetumor_df['Tumor Volume (mm3)']\n",
    "correlation = st.pearsonr(m_weight,t_volume)\n",
    "print(f'The correlation coefficient between both mouse weight and tumor volume is {round(correlation[0],2)}')\n",
    "print('The strength of this correlation is strong.')\n",
    "\n",
    "\n",
    "#Plotting with pyplot\n",
    "#Setting variables for x-axis and y-axis\n",
    "x_axis = scatplt_avetumor_df['Weight (g)']\n",
    "y_axis = scatplt_avetumor_df['Tumor Volume (mm3)']\n",
    "\n",
    "#Formatting title and axis labels\n",
    "plt.title(\"Mouse weight and Tumor Volume with Capomulin Treatment Regimen\")\n",
    "plt.xlabel(\"Mouse Weight (g)\")\n",
    "plt.ylabel(\"Size of tumor(mm3)\")\n",
    "    \n",
    "#Graphing and showing Lineplot\n",
    "plt.scatter(x_axis, y_axis, marker=\"o\", edgecolors=\"black\", alpha=0.75)\n",
    "\n",
    "#Adding the linear regression equation and line to the scatter plot\n",
    "(slope, intercept, rvalue, pvalue, stderr) = linregress(x_axis, y_axis)\n",
    "regress_values = x_axis * slope + intercept\n",
    "line_eq = \"y = \" + str(round(slope,2)) + \"x + \" + str(round(intercept,2))\n",
    "plt.plot(x_axis,regress_values,\"r-\")\n",
    "plt.annotate(line_eq,(20,38),fontsize=15,color=\"red\")\n",
    "\n",
    "plt.show()"
   ]
  }
 ],
 "metadata": {
  "anaconda-cloud": {},
  "kernelspec": {
   "display_name": "Python 3",
   "language": "python",
   "name": "python3"
  },
  "language_info": {
   "codemirror_mode": {
    "name": "ipython",
    "version": 3
   },
   "file_extension": ".py",
   "mimetype": "text/x-python",
   "name": "python",
   "nbconvert_exporter": "python",
   "pygments_lexer": "ipython3",
   "version": "3.7.4"
  }
 },
 "nbformat": 4,
 "nbformat_minor": 2
}
